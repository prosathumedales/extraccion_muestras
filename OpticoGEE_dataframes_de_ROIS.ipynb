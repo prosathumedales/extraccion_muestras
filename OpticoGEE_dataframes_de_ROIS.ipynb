{
 "cells": [
  {
   "cell_type": "code",
   "execution_count": null,
   "metadata": {
    "colab": {
     "base_uri": "https://localhost:8080/"
    },
    "id": "NCwB7DfxFAOQ",
    "outputId": "91e5d058-bb2f-40e1-85e1-6b98c21f5796"
   },
   "outputs": [],
   "source": [
    "!pip install geopandas"
   ]
  },
  {
   "cell_type": "code",
   "execution_count": null,
   "metadata": {
    "colab": {
     "base_uri": "https://localhost:8080/"
    },
    "id": "mRpUpjPqx9Kb",
    "outputId": "7e8e4cae-e6a9-4e90-d348-01103c04d3bd"
   },
   "outputs": [],
   "source": [
    "import geopandas as gpd\n",
    "from shapely.geometry import Polygon\n",
    "\n",
    "from google.colab import drive\n",
    "drive.mount('/content/drive')\n",
    "\n",
    "import os\n",
    "\n",
    "import matplotlib.pyplot as plt\n",
    "import folium\n",
    "\n",
    "import numpy as np\n",
    "import pandas as pd"
   ]
  },
  {
   "cell_type": "code",
   "execution_count": null,
   "metadata": {
    "colab": {
     "base_uri": "https://localhost:8080/"
    },
    "id": "XeFsiSp2aDL6",
    "outputId": "d2b1c781-a51b-489a-f99c-161851daea92"
   },
   "outputs": [],
   "source": [
    "import ee\n",
    "\n",
    "# Trigger the authentication flow.\n",
    "ee.Authenticate()\n",
    "\n",
    "# Initialize the library.\n",
    "ee.Initialize()"
   ]
  },
  {
   "cell_type": "markdown",
   "metadata": {
    "id": "p3hacrO6cEt5"
   },
   "source": [
    "Algunas funciones útiles"
   ]
  },
  {
   "cell_type": "code",
   "execution_count": null,
   "metadata": {
    "id": "oh-WFgXeDppY"
   },
   "outputs": [],
   "source": [
    "# Función para agregar capas de GEE a Folium\n",
    "def add_ee_layer(self, ee_image_object, vis_params, name):\n",
    "  map_id_dict = ee.Image(ee_image_object).getMapId(vis_params)\n",
    "  folium.raster_layers.TileLayer(\n",
    "      tiles=map_id_dict['tile_fetcher'].url_format,\n",
    "      attr='Map Data &copy; <a href=\"https://earthengine.google.com/\">Google Earth Engine</a>',\n",
    "      name=name,\n",
    "      overlay=True,\n",
    "      control=True\n",
    "  ).add_to(self)\n",
    "\n",
    "folium.Map.add_ee_layer = add_ee_layer\n",
    "\n",
    "# ROIs = ROIs.to_crs(epsg=4326)\n",
    "\n",
    "def get_boundaries(gdf):\n",
    "  ## from shapefile it returns city boundary as a rectangle in different format\n",
    "  #### polygon_geom: shapely polygon\n",
    "  #### polygon: geopandas dataframe\n",
    "  #### geometry: Earth Engine polygon\n",
    "  bounds = gdf.total_bounds\n",
    "  lon_point_list = [bounds[0], bounds[0], bounds[2], bounds[2]]\n",
    "  lat_point_list = [bounds[1], bounds[3], bounds[3], bounds[1]]\n",
    "  polygon_geom = Polygon(zip(lon_point_list, lat_point_list))\n",
    "  # crs = {'init': 'epsg:4326'}\n",
    "  polygon = gpd.GeoDataFrame(index=[0], geometry=[polygon_geom]) \n",
    "  # polygon = gpd.GeoDataFrame(index=[0], crs=crs, geometry=[polygon_geom]) \n",
    "  geometry = ee.Geometry.Polygon(\n",
    "          [[[bounds[0], bounds[1]],\n",
    "            [bounds[0], bounds[3]],\n",
    "            [bounds[2], bounds[3]],\n",
    "            [bounds[2], bounds[1]]]])\n",
    "  return polygon_geom, polygon, geometry\n",
    "\n",
    "def from_SHP_geom_to_GEE_geom(gdf):\n",
    "  '''\n",
    "  Converts geometry in Geopandas DataFram row to GEE geometry. Only tested over\n",
    "  simple polygons\n",
    "  '''\n",
    "  coords = eval(gdf.to_json())['features'][0]['geometry']['coordinates']\n",
    "  return ee.Geometry.Polygon(coords)\n"
   ]
  },
  {
   "cell_type": "markdown",
   "metadata": {
    "id": "t-Ng6y2_b8aO"
   },
   "source": [
    "## Exploramos por arriba la base de datos"
   ]
  },
  {
   "cell_type": "code",
   "execution_count": null,
   "metadata": {
    "colab": {
     "base_uri": "https://localhost:8080/",
     "height": 337
    },
    "id": "beL5gwSZ0eUp",
    "outputId": "be6e28e6-b05b-4c1b-8e44-434547b485fb"
   },
   "outputs": [],
   "source": [
    "base_path = '/content/drive/My Drive/Humedales/ROIs para extraccion de datos opticos/'\n",
    "filename = 'Poligonos_UPI4_EPSG4326_join20220509_2.shp'\n",
    "ROIs = gpd.read_file(base_path + filename)\n",
    "ROIs.head()"
   ]
  },
  {
   "cell_type": "code",
   "execution_count": null,
   "metadata": {
    "id": "KRnHjxbAKezw"
   },
   "outputs": [],
   "source": [
    "### Si queremos ver todos los polígonos juntos o el cuadrado alrededor de un polígono\n",
    "# polygon_geom, polygon, geometry = get_boundaries(ROIs.iloc[[0]])\n",
    "polygon_geom, polygon, geometry = get_boundaries(ROIs.iloc[[0]])"
   ]
  },
  {
   "cell_type": "code",
   "execution_count": null,
   "metadata": {
    "id": "wz5OEU5UZr8p"
   },
   "outputs": [],
   "source": [
    "### Si queremos ver un polígono tal cual sale de la base de datos\n",
    "i = 0\n",
    "# geometry = from_SHP_geom_to_GEE_geom(ROIs.iloc[[i]])"
   ]
  },
  {
   "cell_type": "code",
   "execution_count": null,
   "metadata": {
    "colab": {
     "base_uri": "https://localhost:8080/",
     "height": 1000
    },
    "id": "qrHRQREcKe1w",
    "outputId": "6f6a5bc4-d480-4bea-9592-7baf96f9c7d6"
   },
   "outputs": [],
   "source": [
    "first = (ee.ImageCollection('COPERNICUS/S2_SR')\n",
    "         .filterBounds(geometry)\n",
    "         .filterDate('2019-05-26', '2019-05-28')\n",
    "         .sort('CLOUDY_PIXEL_PERCENTAGE')\n",
    "         .first()\n",
    "         .clip(geometry))\n",
    "\n",
    "# Define a map centered on southern Maine.\n",
    "map_s2 = folium.Map(location=(ROIs.centroid[i].y, ROIs.centroid[i].x), zoom_start=18)\n",
    "\n",
    "# Add the image layer to the map and display it.\n",
    "map_s2.add_ee_layer(\n",
    "    first, {'bands': ['B4', 'B3', 'B2'], 'min': 0, 'max': 2000}, 'first')\n",
    "\n",
    "\n",
    "for _, r in ROIs.iterrows():\n",
    "    # Without simplifying the representation of each borough,\n",
    "    # the map might not be displayed\n",
    "    sim_geo = gpd.GeoSeries(r['geometry'])#.simplify(tolerance=0.001)\n",
    "    geo_j = sim_geo.to_json()\n",
    "    geo_j = folium.GeoJson(data=geo_j,\n",
    "                           style_function=lambda x: {'fillColor': 'orange'})\n",
    "    # folium.Popup(r['BoroName']).add_to(geo_j)\n",
    "    geo_j.add_to(map_s2)\n",
    "map_s2\n",
    "\n"
   ]
  },
  {
   "cell_type": "markdown",
   "metadata": {
    "id": "Hj20cyoyV5qN"
   },
   "source": [
    "## Extracción de estadísticos sobre polígonos\n",
    "\n",
    "Definimos la colección de imágenes"
   ]
  },
  {
   "cell_type": "code",
   "execution_count": null,
   "metadata": {
    "id": "9JN_4gSy8bwX"
   },
   "outputs": [],
   "source": [
    "system = 'Sentinel-2'\n",
    "if system == 'Sentinel-2':\n",
    "  images_collection = ee.ImageCollection('COPERNICUS/S2_SR_HARMONIZED')"
   ]
  },
  {
   "cell_type": "markdown",
   "metadata": {
    "id": "6rMrKJ7WW94Y"
   },
   "source": [
    "### Método 1 - Iterando sobre geometrías y fechas.\n",
    "\n",
    "Muy lento, pero más versátil."
   ]
  },
  {
   "cell_type": "code",
   "execution_count": null,
   "metadata": {
    "colab": {
     "base_uri": "https://localhost:8080/"
    },
    "id": "avPanz2Z0Gm5",
    "outputId": "595dc150-0e2d-481d-b4e3-0d11b7b38cc7"
   },
   "outputs": [],
   "source": [
    "for i_geom in range(len(ROIs)):\n",
    "  print(f'Geometría {i_geom}')\n",
    "  geometry = from_SHP_geom_to_GEE_geom(ROIs.iloc[[i_geom]])\n",
    "  images_collection_geometry = (images_collection\n",
    "                              .filterBounds(geometry)\n",
    "                          .sort('system:time_start', True))\n",
    "  \n",
    "\n",
    "  collectionList = images_collection_geometry.toList(images_collection_geometry.size())\n",
    "  collectionSize = images_collection_geometry.size().getInfo()\n",
    "\n",
    "\n",
    "  for i_image in range(collectionSize):\n",
    "    image = ee.Image(collectionList.get(i_image)).clip(geometry) \n",
    "    \n",
    "    print(ee.Date(image.get('system:time_start')).format(\"yyyy-MM-dd\").getInfo())\n",
    "    \n",
    "    meanDictionary = image.reduceRegion(\n",
    "    reducer=ee.Reducer.mean(),\n",
    "    geometry=geometry,\n",
    "    scale=10,\n",
    "    maxPixels=1e9\n",
    "    )\n",
    "\n",
    "    print(meanDictionary.getInfo())\n",
    "    stdDictionary = image.reduceRegion(\n",
    "    reducer=ee.Reducer.stdDev(),\n",
    "    geometry=geometry,\n",
    "    scale=10,\n",
    "    maxPixels=1e9\n",
    "    )\n",
    "\n",
    "    print(stdDictionary.getInfo())\n",
    "\n",
    "    if i_image > 5:\n",
    "      break\n",
    "\n",
    "  if i_geom > 0:\n",
    "    break"
   ]
  },
  {
   "cell_type": "markdown",
   "metadata": {
    "id": "VbRb_5-m1cyp"
   },
   "source": [
    "### Métodos 2 - Usando Map \n",
    "\n",
    "Mucho más eficiente. De esta forma obtenemos los estadísticos sobre todas las imágenes mucho más rápido. Seguimos iterando sobre todas las geometrías.\n",
    "\n"
   ]
  },
  {
   "cell_type": "code",
   "execution_count": null,
   "metadata": {
    "id": "Dg3PVMmSYd9Q"
   },
   "outputs": [],
   "source": [
    "# Funciones auxiliares\n",
    "\n",
    "def mean_reduce(image):\n",
    "  reduced = image.reduceRegion(\n",
    "              reducer=ee.Reducer.mean(),\n",
    "              geometry=geometry,\n",
    "              scale=10)\n",
    "  return ee.Feature(None, reduced)\n",
    "\n",
    "def std_reduce(image):\n",
    "  reduced = image.reduceRegion(\n",
    "              reducer=ee.Reducer.stdDev(),\n",
    "              geometry=geometry,\n",
    "              scale=10)\n",
    "  return ee.Feature(None, reduced)\n",
    "\n",
    "\n",
    "def count_reduce(image):\n",
    "  reduced = image.reduceRegion(\n",
    "              reducer=ee.Reducer.count(),\n",
    "              geometry=geometry,\n",
    "              scale=10)\n",
    "  return ee.Feature(None, reduced)\n",
    "\n",
    "# mean_ = images_collection_geometry.map(mean_reduce)\n",
    "# std_ = images_collection_geometry.map(std_reduce)"
   ]
  },
  {
   "cell_type": "code",
   "execution_count": null,
   "metadata": {
    "colab": {
     "base_uri": "https://localhost:8080/"
    },
    "id": "HB2smIVqX6eW",
    "outputId": "3a46a935-bba7-4178-a927-6db271d3d96e"
   },
   "outputs": [],
   "source": [
    "dict_results = {}\n",
    "for i_geom in range(len(ROIs)):\n",
    "  print(f'Geometría {i_geom}')\n",
    "  # row = ROIs.iloc[i_geom]\n",
    "  geometry = from_SHP_geom_to_GEE_geom(ROIs.iloc[[i_geom]])\n",
    "  images_collection_geometry = (images_collection\n",
    "                              .filterBounds(geometry)\n",
    "                          .sort('system:time_start', True))\n",
    "  \n",
    "\n",
    "  # collectionList = images_collection_geometry.toList(images_collection_geometry.size())\n",
    "  # collectionSize = images_collection_geometry.size().getInfo()\n",
    "\n",
    "  dates = (ee.List(images_collection_geometry\n",
    "      .aggregate_array('system:time_start'))\n",
    "      .map(lambda time_start: \n",
    "          ee.Date(time_start).format('Y-MM-dd')\n",
    "      ).getInfo())\n",
    "\n",
    "  means = images_collection_geometry.map(mean_reduce)\n",
    "  stdDevs = images_collection_geometry.map(std_reduce)\n",
    "  counts = images_collection_geometry.map(count_reduce)\n",
    "\n",
    "\n",
    "  means_df = pd.DataFrame([d['properties'] for d in means.getInfo()['features']])\n",
    "  stdDevs_df = pd.DataFrame([d['properties'] for d in stdDevs.getInfo()['features']])\n",
    "  counts_df = pd.DataFrame([d['properties'] for d in counts.getInfo()['features']])\n",
    "  \n",
    "  # display(means_df.head())\n",
    "  # display(stdDevs_df.head())\n",
    "  # display(counts_df.head())\n",
    "\n",
    "  dict_results[i_geom] = {'dates': dates, 'means': means_df,\n",
    "                          'stdDevs': stdDevs_df, 'counts': counts_df}\n",
    "  # print(stdDevs.getInfo())\n",
    "  # if i_geom > 3:\n",
    "  #   break\n"
   ]
  },
  {
   "cell_type": "markdown",
   "metadata": {
    "id": "33c84Nub9rXA"
   },
   "source": [
    "Llevamos al DataFrame."
   ]
  },
  {
   "cell_type": "code",
   "execution_count": null,
   "metadata": {
    "colab": {
     "base_uri": "https://localhost:8080/"
    },
    "id": "EsrZkqpxX6hP",
    "outputId": "e042fda0-b3a3-4297-dc1c-561dbe1ce873"
   },
   "outputs": [],
   "source": [
    "df_results = []\n",
    "for i_geom in range(len(ROIs)):\n",
    "  print(f'Geometría {i_geom}')\n",
    "  row = ROIs.iloc[i_geom]\n",
    "  means_df = dict_results[i_geom]['means']\n",
    "  stdDevs_df = dict_results[i_geom]['stdDevs']\n",
    "  counts_df = dict_results[i_geom]['counts']\n",
    "  dates = dict_results[i_geom]['dates']\n",
    "\n",
    "  for i_date in range(len(dates)):\n",
    "    mask_cloud_prob_mean = means_df.loc[i_date, 'MSK_CLDPRB']\n",
    "    for band in means_df.columns:\n",
    "      \n",
    "      new_row = row.copy()\n",
    "      new_row['fecha'] = means_df.loc[i_date, band]\n",
    "      new_row['banda_nombre'] = band\n",
    "      new_row['angulo_incidencia'] = np.nan\n",
    "      new_row['valor_promedio'] = means_df.loc[i_date, band]\n",
    "      new_row['valor_desvioest'] = stdDevs_df.loc[i_date, band]\n",
    "      new_row['prob_promedio_nubes'] = mask_cloud_prob_mean\n",
    "      new_row['fecha'] = dates[i_date]\n",
    "      new_row['sensor'] = system\n",
    "      new_row['tipo_sensor'] = 'Optico'\n",
    "      new_row['tipo_escena'] = system\n",
    "      \n",
    "      df_results.append(new_row)\n",
    "\n"
   ]
  },
  {
   "cell_type": "code",
   "execution_count": null,
   "metadata": {
    "colab": {
     "base_uri": "https://localhost:8080/",
     "height": 560
    },
    "id": "pKw1Ps8tZHFl",
    "outputId": "c75df54a-ba31-41c5-d85e-b9d4a25a6b0b"
   },
   "outputs": [],
   "source": [
    "# df_result = pd.DataFrame()\n",
    "df_results = pd.DataFrame(df_results)\n",
    "df_results.reset_index(drop = True, inplace = True)\n",
    "df_results.drop(columns = ['geometry'], inplace = True)\n",
    "df_results.head()"
   ]
  },
  {
   "cell_type": "code",
   "execution_count": null,
   "metadata": {
    "id": "_QIWs_isgOXI"
   },
   "outputs": [],
   "source": [
    "df_results.to_csv('/content/drive/My Drive/Humedales/ROIs para extraccion de datos opticos/Poligonos_UPI4_EPSG4326_join20220509_2_S2_SR_HARMONIZED.csv')"
   ]
  },
  {
   "cell_type": "code",
   "execution_count": null,
   "metadata": {
    "id": "3CbbRvtSf6p1"
   },
   "outputs": [],
   "source": [
    "aux = df_results[(df_results.prob_promedio_nubes == 0) & (df_results.banda_nombre.isin(['B4', 'B8']))]\n",
    "ndvi = (aux[aux.banda_nombre == 'B8'].valor_promedio - aux[aux.banda_nombre == 'B4'].valor_promedio)/(aux[aux.banda_nombre == 'B8'].valor_promedio + aux[aux.banda_nombre == 'B4'].valor_promedio)"
   ]
  },
  {
   "cell_type": "code",
   "execution_count": null,
   "metadata": {
    "colab": {
     "base_uri": "https://localhost:8080/",
     "height": 565
    },
    "id": "OupvEGrmf6sP",
    "outputId": "33bd83f7-83ed-4af9-83df-af40eb963fca"
   },
   "outputs": [],
   "source": [
    "plt.plot(aux[aux.banda_nombre == 'B8'].fecha, ndvi)"
   ]
  },
  {
   "cell_type": "code",
   "execution_count": null,
   "metadata": {
    "colab": {
     "base_uri": "https://localhost:8080/",
     "height": 282
    },
    "id": "nMrhNOLDAqdr",
    "outputId": "44fef619-802b-47c1-f7df-66b8b0f1d068"
   },
   "outputs": [],
   "source": [
    "plt.figure(figsize = (12,4))\n",
    "plt.plot(aux.fecha, aux.valor_promedio)"
   ]
  }
 ],
 "metadata": {
  "colab": {
   "collapsed_sections": [],
   "name": "Humedales-Extracción",
   "provenance": []
  },
  "kernelspec": {
   "display_name": "Python 3 (ipykernel)",
   "language": "python",
   "name": "python3"
  },
  "language_info": {
   "codemirror_mode": {
    "name": "ipython",
    "version": 3
   },
   "file_extension": ".py",
   "mimetype": "text/x-python",
   "name": "python",
   "nbconvert_exporter": "python",
   "pygments_lexer": "ipython3",
   "version": "3.9.7"
  }
 },
 "nbformat": 4,
 "nbformat_minor": 4
}
